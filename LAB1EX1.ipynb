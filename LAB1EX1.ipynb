{
 "cells": [
  {
   "cell_type": "markdown",
   "id": "2b3750ef-c456-4d4b-a2a0-e106a951c443",
   "metadata": {},
   "source": [
    "# Lab 1 : Analysis of the link between the CAC40 and the and some other indices"
   ]
  },
  {
   "cell_type": "code",
   "execution_count": 243,
   "id": "bc4aebc1-462d-4aa1-8919-ed48edcd683b",
   "metadata": {},
   "outputs": [
    {
     "name": "stdout",
     "output_type": "stream",
     "text": [
      "NumPy OK from: /Users/hirecheariles/Library/jupyterlab-desktop/jlab_server/lib/python3.12/site-packages/numpy/__init__.py\n",
      "Pandas: 2.3.2\n"
     ]
    }
   ],
   "source": [
    "import numpy as np, pandas as pd\n",
    "print(\"NumPy OK from:\", np.__file__)\n",
    "print(\"Pandas:\", pd.__version__)"
   ]
  },
  {
   "cell_type": "markdown",
   "id": "2f08c715-7a8e-4e3d-9333-4796a7554143",
   "metadata": {},
   "source": [
    "## EXERCISE 1: Application"
   ]
  },
  {
   "cell_type": "code",
   "execution_count": 244,
   "id": "591851aa-6843-4a0c-ba91-6df8674e1254",
   "metadata": {},
   "outputs": [
    {
     "data": {
      "text/html": [
       "<div>\n",
       "<style scoped>\n",
       "    .dataframe tbody tr th:only-of-type {\n",
       "        vertical-align: middle;\n",
       "    }\n",
       "\n",
       "    .dataframe tbody tr th {\n",
       "        vertical-align: top;\n",
       "    }\n",
       "\n",
       "    .dataframe thead th {\n",
       "        text-align: right;\n",
       "    }\n",
       "</style>\n",
       "<table border=\"1\" class=\"dataframe\">\n",
       "  <thead>\n",
       "    <tr style=\"text-align: right;\">\n",
       "      <th></th>\n",
       "      <th>RETURN</th>\n",
       "    </tr>\n",
       "    <tr>\n",
       "      <th>DATE</th>\n",
       "      <th></th>\n",
       "    </tr>\n",
       "  </thead>\n",
       "  <tbody>\n",
       "    <tr>\n",
       "      <th>1987M08</th>\n",
       "      <td>0.050088</td>\n",
       "    </tr>\n",
       "    <tr>\n",
       "      <th>1987M09</th>\n",
       "      <td>-0.050507</td>\n",
       "    </tr>\n",
       "    <tr>\n",
       "      <th>1987M10</th>\n",
       "      <td>-0.291422</td>\n",
       "    </tr>\n",
       "    <tr>\n",
       "      <th>1987M11</th>\n",
       "      <td>-0.055939</td>\n",
       "    </tr>\n",
       "    <tr>\n",
       "      <th>1987M12</th>\n",
       "      <td>0.058215</td>\n",
       "    </tr>\n",
       "  </tbody>\n",
       "</table>\n",
       "</div>"
      ],
      "text/plain": [
       "           RETURN\n",
       "DATE             \n",
       "1987M08  0.050088\n",
       "1987M09 -0.050507\n",
       "1987M10 -0.291422\n",
       "1987M11 -0.055939\n",
       "1987M12  0.058215"
      ]
     },
     "execution_count": 244,
     "metadata": {},
     "output_type": "execute_result"
    }
   ],
   "source": [
    "df_cac = pd.read_excel(\"/Users/hirecheariles/Documents/Cours/Master Finance/Econométrie/LAB1/LAB1Data1.xlsx\", sheet_name=\"CAC\", index_col=\"DATE\")\n",
    "df_cac.head()"
   ]
  },
  {
   "cell_type": "code",
   "execution_count": 245,
   "id": "0266d821-8a31-4157-ba57-01d1d447a8a6",
   "metadata": {},
   "outputs": [
    {
     "data": {
      "text/html": [
       "<div>\n",
       "<style scoped>\n",
       "    .dataframe tbody tr th:only-of-type {\n",
       "        vertical-align: middle;\n",
       "    }\n",
       "\n",
       "    .dataframe tbody tr th {\n",
       "        vertical-align: top;\n",
       "    }\n",
       "\n",
       "    .dataframe thead th {\n",
       "        text-align: right;\n",
       "    }\n",
       "</style>\n",
       "<table border=\"1\" class=\"dataframe\">\n",
       "  <thead>\n",
       "    <tr style=\"text-align: right;\">\n",
       "      <th></th>\n",
       "      <th>RETURN</th>\n",
       "    </tr>\n",
       "    <tr>\n",
       "      <th>DATE</th>\n",
       "      <th></th>\n",
       "    </tr>\n",
       "  </thead>\n",
       "  <tbody>\n",
       "    <tr>\n",
       "      <th>1960M02</th>\n",
       "      <td>0.012046</td>\n",
       "    </tr>\n",
       "    <tr>\n",
       "      <th>1960M03</th>\n",
       "      <td>-0.021472</td>\n",
       "    </tr>\n",
       "    <tr>\n",
       "      <th>1960M04</th>\n",
       "      <td>-0.024149</td>\n",
       "    </tr>\n",
       "    <tr>\n",
       "      <th>1960M05</th>\n",
       "      <td>0.039572</td>\n",
       "    </tr>\n",
       "    <tr>\n",
       "      <th>1960M06</th>\n",
       "      <td>0.024157</td>\n",
       "    </tr>\n",
       "  </tbody>\n",
       "</table>\n",
       "</div>"
      ],
      "text/plain": [
       "           RETURN\n",
       "DATE             \n",
       "1960M02  0.012046\n",
       "1960M03 -0.021472\n",
       "1960M04 -0.024149\n",
       "1960M05  0.039572\n",
       "1960M06  0.024157"
      ]
     },
     "execution_count": 245,
     "metadata": {},
     "output_type": "execute_result"
    }
   ],
   "source": [
    "df_dj=pd.read_excel(\"/Users/hirecheariles/Documents/Cours/Master Finance/Econométrie/LAB1/LAB1Data1.xlsx\", sheet_name='DJ', index_col=\"DATE\")\n",
    "df_dj.head()"
   ]
  },
  {
   "cell_type": "code",
   "execution_count": 246,
   "id": "fc761ad9-b0da-408b-b3bd-3c73da1cb83b",
   "metadata": {},
   "outputs": [
    {
     "data": {
      "text/html": [
       "<div>\n",
       "<style scoped>\n",
       "    .dataframe tbody tr th:only-of-type {\n",
       "        vertical-align: middle;\n",
       "    }\n",
       "\n",
       "    .dataframe tbody tr th {\n",
       "        vertical-align: top;\n",
       "    }\n",
       "\n",
       "    .dataframe thead th {\n",
       "        text-align: right;\n",
       "    }\n",
       "</style>\n",
       "<table border=\"1\" class=\"dataframe\">\n",
       "  <thead>\n",
       "    <tr style=\"text-align: right;\">\n",
       "      <th></th>\n",
       "      <th>RETURN</th>\n",
       "    </tr>\n",
       "    <tr>\n",
       "      <th>DATE</th>\n",
       "      <th></th>\n",
       "    </tr>\n",
       "  </thead>\n",
       "  <tbody>\n",
       "    <tr>\n",
       "      <th>1987M02</th>\n",
       "      <td>-0.020306</td>\n",
       "    </tr>\n",
       "    <tr>\n",
       "      <th>1987M03</th>\n",
       "      <td>0.029762</td>\n",
       "    </tr>\n",
       "    <tr>\n",
       "      <th>1987M04</th>\n",
       "      <td>0.009909</td>\n",
       "    </tr>\n",
       "    <tr>\n",
       "      <th>1987M05</th>\n",
       "      <td>-0.025859</td>\n",
       "    </tr>\n",
       "    <tr>\n",
       "      <th>1987M06</th>\n",
       "      <td>0.029378</td>\n",
       "    </tr>\n",
       "  </tbody>\n",
       "</table>\n",
       "</div>"
      ],
      "text/plain": [
       "           RETURN\n",
       "DATE             \n",
       "1987M02 -0.020306\n",
       "1987M03  0.029762\n",
       "1987M04  0.009909\n",
       "1987M05 -0.025859\n",
       "1987M06  0.029378"
      ]
     },
     "execution_count": 246,
     "metadata": {},
     "output_type": "execute_result"
    }
   ],
   "source": [
    "df_eur=pd.read_excel(\"/Users/hirecheariles/Documents/Cours/Master Finance/Econométrie/LAB1/LAB1Data1.xlsx\", sheet_name='EURO', index_col=\"DATE\")\n",
    "df_eur.head()"
   ]
  },
  {
   "cell_type": "code",
   "execution_count": 247,
   "id": "0b9d30f6-18f3-4a17-bf48-0545adb284b8",
   "metadata": {
    "scrolled": true
   },
   "outputs": [
    {
     "data": {
      "text/html": [
       "<div>\n",
       "<style scoped>\n",
       "    .dataframe tbody tr th:only-of-type {\n",
       "        vertical-align: middle;\n",
       "    }\n",
       "\n",
       "    .dataframe tbody tr th {\n",
       "        vertical-align: top;\n",
       "    }\n",
       "\n",
       "    .dataframe thead th {\n",
       "        text-align: right;\n",
       "    }\n",
       "</style>\n",
       "<table border=\"1\" class=\"dataframe\">\n",
       "  <thead>\n",
       "    <tr style=\"text-align: right;\">\n",
       "      <th></th>\n",
       "      <th>RETURN</th>\n",
       "    </tr>\n",
       "    <tr>\n",
       "      <th>DATE</th>\n",
       "      <th></th>\n",
       "    </tr>\n",
       "  </thead>\n",
       "  <tbody>\n",
       "    <tr>\n",
       "      <th>1957M04</th>\n",
       "      <td>0.035052</td>\n",
       "    </tr>\n",
       "    <tr>\n",
       "      <th>1957M05</th>\n",
       "      <td>0.034081</td>\n",
       "    </tr>\n",
       "    <tr>\n",
       "      <th>1957M06</th>\n",
       "      <td>0.016270</td>\n",
       "    </tr>\n",
       "    <tr>\n",
       "      <th>1957M07</th>\n",
       "      <td>-0.036946</td>\n",
       "    </tr>\n",
       "    <tr>\n",
       "      <th>1957M08</th>\n",
       "      <td>-0.065004</td>\n",
       "    </tr>\n",
       "  </tbody>\n",
       "</table>\n",
       "</div>"
      ],
      "text/plain": [
       "           RETURN\n",
       "DATE             \n",
       "1957M04  0.035052\n",
       "1957M05  0.034081\n",
       "1957M06  0.016270\n",
       "1957M07 -0.036946\n",
       "1957M08 -0.065004"
      ]
     },
     "execution_count": 247,
     "metadata": {},
     "output_type": "execute_result"
    }
   ],
   "source": [
    "df_snp=f_dj=pd.read_excel(\"/Users/hirecheariles/Documents/Cours/Master Finance/Econométrie/LAB1/LAB1Data1.xlsx\", sheet_name='SandP', index_col=\"DATE\")\n",
    "df_snp.head()"
   ]
  },
  {
   "attachments": {
    "881331f7-95fd-416b-afc2-a2b55ae3e9b7.png": {
     "image/png": "[encoded data removed]"
    }
   },
   "cell_type": "markdown",
   "id": "f27bc93c-8f9b-4ba2-bf7f-7a00db4ffe11",
   "metadata": {},
   "source": [
    "1. Fill-up the table below:\n",
    "\n",
    "![image.png](attachment:881331f7-95fd-416b-afc2-a2b55ae3e9b7.png)"
   ]
  },
  {
   "cell_type": "code",
   "execution_count": 248,
   "id": "54652a93-2be2-4c66-83d7-d3fd69add60b",
   "metadata": {},
   "outputs": [
    {
     "data": {
      "text/html": [
       "<div>\n",
       "<style scoped>\n",
       "    .dataframe tbody tr th:only-of-type {\n",
       "        vertical-align: middle;\n",
       "    }\n",
       "\n",
       "    .dataframe tbody tr th {\n",
       "        vertical-align: top;\n",
       "    }\n",
       "\n",
       "    .dataframe thead th {\n",
       "        text-align: right;\n",
       "    }\n",
       "</style>\n",
       "<table border=\"1\" class=\"dataframe\">\n",
       "  <thead>\n",
       "    <tr style=\"text-align: right;\">\n",
       "      <th></th>\n",
       "      <th>CAC40</th>\n",
       "      <th>DowJones</th>\n",
       "      <th>EuroStoxx50</th>\n",
       "      <th>SandP500</th>\n",
       "    </tr>\n",
       "    <tr>\n",
       "      <th>Index</th>\n",
       "      <th></th>\n",
       "      <th></th>\n",
       "      <th></th>\n",
       "      <th></th>\n",
       "    </tr>\n",
       "  </thead>\n",
       "  <tbody>\n",
       "    <tr>\n",
       "      <th>Spreadsheet</th>\n",
       "      <td>1</td>\n",
       "      <td>3</td>\n",
       "      <td>2</td>\n",
       "      <td>4</td>\n",
       "    </tr>\n",
       "    <tr>\n",
       "      <th>Cell NB</th>\n",
       "      <td>385</td>\n",
       "      <td>715</td>\n",
       "      <td>391</td>\n",
       "      <td>749</td>\n",
       "    </tr>\n",
       "    <tr>\n",
       "      <th>Data type</th>\n",
       "      <td>float64</td>\n",
       "      <td>float64</td>\n",
       "      <td>float64</td>\n",
       "      <td>float64</td>\n",
       "    </tr>\n",
       "    <tr>\n",
       "      <th>Begin date</th>\n",
       "      <td>1987M08</td>\n",
       "      <td>1960M02</td>\n",
       "      <td>1987M02</td>\n",
       "      <td>1957M04</td>\n",
       "    </tr>\n",
       "    <tr>\n",
       "      <th>End date</th>\n",
       "      <td>2019M08</td>\n",
       "      <td>2019M08</td>\n",
       "      <td>2019M08</td>\n",
       "      <td>2019M08</td>\n",
       "    </tr>\n",
       "    <tr>\n",
       "      <th>Freq.</th>\n",
       "      <td>Monthly</td>\n",
       "      <td>Monthly</td>\n",
       "      <td>Montly</td>\n",
       "      <td>Monthly</td>\n",
       "    </tr>\n",
       "  </tbody>\n",
       "</table>\n",
       "</div>"
      ],
      "text/plain": [
       "               CAC40 DowJones EuroStoxx50 SandP500\n",
       "Index                                             \n",
       "Spreadsheet        1        3           2        4\n",
       "Cell NB          385      715         391      749\n",
       "Data type    float64  float64     float64  float64\n",
       "Begin date   1987M08  1960M02     1987M02  1957M04\n",
       "End date     2019M08  2019M08     2019M08  2019M08\n",
       "Freq.        Monthly  Monthly      Montly  Monthly"
      ]
     },
     "execution_count": 248,
     "metadata": {},
     "output_type": "execute_result"
    }
   ],
   "source": [
    "summary={\n",
    "    \"Index\":[\"Spreadsheet\", \"Cell NB\", \"Data type\", \"Begin date\", \"End date\", \"Freq.\"],\n",
    "    \"CAC40\":[1, len(df_cac),  df_cac[\"RETURN\"].dtype, df_cac.index[0], df_cac.index[-1], \"Monthly\"],\n",
    "    \"DowJones\":[3, len(df_dj),  df_dj[\"RETURN\"].dtype, df_dj.index[0], df_dj.index[-1], \"Monthly\"],\n",
    "    \"EuroStoxx50\":[2, len(df_eur), df_eur[\"RETURN\"].dtype, df_eur.index[0], df_eur.index[-1], \"Montly\"],\n",
    "    \"SandP500\":[4, len(df_snp),  df_snp[\"RETURN\"].dtype, df_snp.index[0], df_snp.index[-1], \"Monthly\"]\n",
    "} \n",
    "df = pd.DataFrame(summary)\n",
    "df.set_index(df.columns[0])"
   ]
  },
  {
   "cell_type": "markdown",
   "id": "1c8624fe-bacd-408c-8d54-d3671f59f951",
   "metadata": {},
   "source": [
    "2. Load the first file into Gretl (or R), define the date format and save the file as a Gretl or an R database, called \"CAC\". Do the same for the second file."
   ]
  },
  {
   "cell_type": "code",
   "execution_count": 249,
   "id": "a4a7f7de-e8e0-493f-abbd-7b01374fb127",
   "metadata": {},
   "outputs": [],
   "source": [
    "#CAC = pd.read_excel(...) - (already done above)"
   ]
  },
  {
   "cell_type": "markdown",
   "id": "268a5459-d977-4aa5-8f73-77b7b8c0d8fb",
   "metadata": {},
   "source": [
    "3. From the smallest database, append the data of the other data base. What happen if\n",
    "you do the reverse (from the largest data base, append the other data base) ?"
   ]
  },
  {
   "cell_type": "code",
   "execution_count": 250,
   "id": "2da88a3e-9194-44cb-8e6a-6d7fd3d51238",
   "metadata": {},
   "outputs": [],
   "source": [
    "#df_cac.rename({\"RETURN\":\"CAC\"}, axis=1, inplace=True)\n",
    "#df_eur.rename({\"RETURN\":\"EUR\"}, axis=1, inplace=True)\n",
    "#merged = pd.concat([df_cac, df_eur], axis=1)\n",
    "#merged.head()"
   ]
  },
  {
   "cell_type": "code",
   "execution_count": 251,
   "id": "abbeb423-9896-42a2-b262-09df583a1c92",
   "metadata": {},
   "outputs": [
    {
     "data": {
      "text/html": [
       "<div>\n",
       "<style scoped>\n",
       "    .dataframe tbody tr th:only-of-type {\n",
       "        vertical-align: middle;\n",
       "    }\n",
       "\n",
       "    .dataframe tbody tr th {\n",
       "        vertical-align: top;\n",
       "    }\n",
       "\n",
       "    .dataframe thead th {\n",
       "        text-align: right;\n",
       "    }\n",
       "</style>\n",
       "<table border=\"1\" class=\"dataframe\">\n",
       "  <thead>\n",
       "    <tr style=\"text-align: right;\">\n",
       "      <th></th>\n",
       "      <th>CAC</th>\n",
       "      <th>EUR</th>\n",
       "    </tr>\n",
       "    <tr>\n",
       "      <th>DATE</th>\n",
       "      <th></th>\n",
       "      <th></th>\n",
       "    </tr>\n",
       "  </thead>\n",
       "  <tbody>\n",
       "    <tr>\n",
       "      <th>1987M08</th>\n",
       "      <td>0.050088</td>\n",
       "      <td>-0.000483</td>\n",
       "    </tr>\n",
       "    <tr>\n",
       "      <th>1987M09</th>\n",
       "      <td>-0.050507</td>\n",
       "      <td>-0.015379</td>\n",
       "    </tr>\n",
       "    <tr>\n",
       "      <th>1987M10</th>\n",
       "      <td>-0.291422</td>\n",
       "      <td>-0.216994</td>\n",
       "    </tr>\n",
       "    <tr>\n",
       "      <th>1987M11</th>\n",
       "      <td>-0.055939</td>\n",
       "      <td>-0.086815</td>\n",
       "    </tr>\n",
       "    <tr>\n",
       "      <th>1987M12</th>\n",
       "      <td>0.058215</td>\n",
       "      <td>-0.021569</td>\n",
       "    </tr>\n",
       "    <tr>\n",
       "      <th>...</th>\n",
       "      <td>...</td>\n",
       "      <td>...</td>\n",
       "    </tr>\n",
       "    <tr>\n",
       "      <th>2019M04</th>\n",
       "      <td>-0.009904</td>\n",
       "      <td>0.045294</td>\n",
       "    </tr>\n",
       "    <tr>\n",
       "      <th>2019M05</th>\n",
       "      <td>-0.006477</td>\n",
       "      <td>-0.066978</td>\n",
       "    </tr>\n",
       "    <tr>\n",
       "      <th>2019M06</th>\n",
       "      <td>0.038400</td>\n",
       "      <td>0.050158</td>\n",
       "    </tr>\n",
       "    <tr>\n",
       "      <th>2019M07</th>\n",
       "      <td>-0.036003</td>\n",
       "      <td>0.000293</td>\n",
       "    </tr>\n",
       "    <tr>\n",
       "      <th>2019M08</th>\n",
       "      <td>0.037304</td>\n",
       "      <td>-0.013460</td>\n",
       "    </tr>\n",
       "  </tbody>\n",
       "</table>\n",
       "<p>385 rows × 2 columns</p>\n",
       "</div>"
      ],
      "text/plain": [
       "              CAC       EUR\n",
       "DATE                       \n",
       "1987M08  0.050088 -0.000483\n",
       "1987M09 -0.050507 -0.015379\n",
       "1987M10 -0.291422 -0.216994\n",
       "1987M11 -0.055939 -0.086815\n",
       "1987M12  0.058215 -0.021569\n",
       "...           ...       ...\n",
       "2019M04 -0.009904  0.045294\n",
       "2019M05 -0.006477 -0.066978\n",
       "2019M06  0.038400  0.050158\n",
       "2019M07 -0.036003  0.000293\n",
       "2019M08  0.037304 -0.013460\n",
       "\n",
       "[385 rows x 2 columns]"
      ]
     },
     "execution_count": 251,
     "metadata": {},
     "output_type": "execute_result"
    }
   ],
   "source": [
    "ndf = df_cac\n",
    "ndf[\"EUR\"] = df_eur[\"RETURN\"]\n",
    "ndf = ndf.rename(columns={\"RETURN\":\"CAC\"})\n",
    "ndf"
   ]
  },
  {
   "cell_type": "markdown",
   "id": "0323caf8-273f-4e5a-ae65-aee7e4e86667",
   "metadata": {},
   "source": [
    "4. Plot the evolution of the two indices from the beginning of the year 2008 to the end of the year 2018."
   ]
  },
  {
   "cell_type": "code",
   "execution_count": 252,
   "id": "28610fd4-9274-409e-bc80-880a12723280",
   "metadata": {},
   "outputs": [
    {
     "data": {
      "text/plain": [
       "np.int64(377)"
      ]
     },
     "execution_count": 252,
     "metadata": {},
     "output_type": "execute_result"
    }
   ],
   "source": [
    "# np.where allows to find the indexes where index=\"2018M01\" in ndf\n",
    "i2008 = np.where(ndf[\"CAC\"].index==\"2008M01\")[0][0]\n",
    "\n",
    "i2018 = np.where(ndf.index==\"2019M01\")[0][0]\n",
    "i2018"
   ]
  },
  {
   "cell_type": "code",
   "execution_count": 253,
   "id": "6cfb5d81-b3c2-4b3e-a348-4383982b66db",
   "metadata": {},
   "outputs": [],
   "source": [
    "#cac2008, eur2008, cac2018, eur2018 = (0, 0, 0, 0)\n",
    "#\n",
    "#for a, b in zip([cac2008, eur2008, cac2018, eur2018], [i_cac2008, i_eur2008, i_cac2018, i_eur2018]):\n",
    "#    a = df_cacXeur[\"RETURN\"][b]\n",
    "#    print(a)"
   ]
  },
  {
   "cell_type": "code",
   "execution_count": 254,
   "id": "dc9df9c2-3576-4dbc-ac09-c2f02c30e090",
   "metadata": {},
   "outputs": [
    {
     "data": {
      "image/png": "[encoded data removed]",
      "text/plain": [
       "<Figure size 640x480 with 1 Axes>"
      ]
     },
     "metadata": {},
     "output_type": "display_data"
    }
   ],
   "source": [
    "import matplotlib.pyplot as plt\n",
    "fig, ax=plt.subplots()\n",
    "\n",
    "ndf[\"CAC\"].iloc[i2008:i2018].plot(color=\"red\", ax=ax)\n",
    "ndf[\"EUR\"].iloc[i2008:i2018].plot(color=\"blue\", ax=ax)\n",
    "plt.title(\"Returns of the CAC40 and Eurostoxx50 in time\")\n",
    "plt.ylabel(\"Returns\")\n",
    "plt.legend();"
   ]
  },
  {
   "cell_type": "markdown",
   "id": "1c32a4a8-5a0e-46f2-9671-c0122d599d88",
   "metadata": {},
   "source": [
    "5. Do a scatter plot of the two indexes (CAC40 on the y-axis, EuroStoxx on the x-axis).\n",
    "Explain why we look at that relation."
   ]
  },
  {
   "cell_type": "code",
   "execution_count": 255,
   "id": "3afb510e-e522-496a-b314-531bbba908fb",
   "metadata": {},
   "outputs": [
    {
     "name": "stdout",
     "output_type": "stream",
     "text": [
      "Plotting this relation allows us to see broadly if there is any correlation between the CAC40 and EUROSTOXX data during this period.\n"
     ]
    },
    {
     "data": {
      "image/png": "[encoded data removed]",
      "text/plain": [
       "<Figure size 600x600 with 1 Axes>"
      ]
     },
     "metadata": {},
     "output_type": "display_data"
    }
   ],
   "source": [
    "plt.figure(figsize=(6,6))\n",
    "\n",
    "plt.scatter(ndf[\"EUR\"][i2008:i2018], ndf[\"CAC\"][i2008:i2018])\n",
    "plt.title(\"CAC 40 vs Eurostoxx50 between 2008 and 2018\")\n",
    "plt.xlabel(\"Eurostoxx\")\n",
    "plt.ylabel(\"CAC40\")\n",
    "\n",
    "print(\"Plotting this relation allows us to see broadly if there is any correlation between the CAC40 and EUROSTOXX data during this period.\");"
   ]
  },
  {
   "cell_type": "markdown",
   "id": "bd84ff82-3ffb-4684-b250-bc43f83b7c86",
   "metadata": {},
   "source": [
    "6. Compute the sum of\n",
    "(a) the CAC40 returns and its square,\n",
    "(b) the EurostoXX50 returns and its square,\n",
    "(c) the EurostoXX50-CAC40 cross product."
   ]
  },
  {
   "cell_type": "code",
   "execution_count": 256,
   "id": "3acf9ae7-8229-41e4-bbb5-1e294cf84aa2",
   "metadata": {},
   "outputs": [
    {
     "data": {
      "text/html": [
       "<div>\n",
       "<style scoped>\n",
       "    .dataframe tbody tr th:only-of-type {\n",
       "        vertical-align: middle;\n",
       "    }\n",
       "\n",
       "    .dataframe tbody tr th {\n",
       "        vertical-align: top;\n",
       "    }\n",
       "\n",
       "    .dataframe thead th {\n",
       "        text-align: right;\n",
       "    }\n",
       "</style>\n",
       "<table border=\"1\" class=\"dataframe\">\n",
       "  <thead>\n",
       "    <tr style=\"text-align: right;\">\n",
       "      <th></th>\n",
       "      <th>CAC</th>\n",
       "      <th>EUR</th>\n",
       "    </tr>\n",
       "    <tr>\n",
       "      <th>DATE</th>\n",
       "      <th></th>\n",
       "      <th></th>\n",
       "    </tr>\n",
       "  </thead>\n",
       "  <tbody>\n",
       "    <tr>\n",
       "      <th>2008M01</th>\n",
       "      <td>-0.143025</td>\n",
       "      <td>-0.130971</td>\n",
       "    </tr>\n",
       "    <tr>\n",
       "      <th>2008M02</th>\n",
       "      <td>-0.030291</td>\n",
       "      <td>-0.010539</td>\n",
       "    </tr>\n",
       "    <tr>\n",
       "      <th>2008M03</th>\n",
       "      <td>0.075695</td>\n",
       "      <td>-0.027385</td>\n",
       "    </tr>\n",
       "    <tr>\n",
       "      <th>2008M04</th>\n",
       "      <td>0.029086</td>\n",
       "      <td>0.055448</td>\n",
       "    </tr>\n",
       "    <tr>\n",
       "      <th>2008M05</th>\n",
       "      <td>-0.050677</td>\n",
       "      <td>-0.004232</td>\n",
       "    </tr>\n",
       "    <tr>\n",
       "      <th>...</th>\n",
       "      <td>...</td>\n",
       "      <td>...</td>\n",
       "    </tr>\n",
       "    <tr>\n",
       "      <th>2018M08</th>\n",
       "      <td>-0.042216</td>\n",
       "      <td>-0.026756</td>\n",
       "    </tr>\n",
       "    <tr>\n",
       "      <th>2018M09</th>\n",
       "      <td>0.005811</td>\n",
       "      <td>-0.002952</td>\n",
       "    </tr>\n",
       "    <tr>\n",
       "      <th>2018M10</th>\n",
       "      <td>-0.031848</td>\n",
       "      <td>-0.066646</td>\n",
       "    </tr>\n",
       "    <tr>\n",
       "      <th>2018M11</th>\n",
       "      <td>-0.075821</td>\n",
       "      <td>-0.011556</td>\n",
       "    </tr>\n",
       "    <tr>\n",
       "      <th>2018M12</th>\n",
       "      <td>0.006514</td>\n",
       "      <td>-0.058714</td>\n",
       "    </tr>\n",
       "  </tbody>\n",
       "</table>\n",
       "<p>132 rows × 2 columns</p>\n",
       "</div>"
      ],
      "text/plain": [
       "              CAC       EUR\n",
       "DATE                       \n",
       "2008M01 -0.143025 -0.130971\n",
       "2008M02 -0.030291 -0.010539\n",
       "2008M03  0.075695 -0.027385\n",
       "2008M04  0.029086  0.055448\n",
       "2008M05 -0.050677 -0.004232\n",
       "...           ...       ...\n",
       "2018M08 -0.042216 -0.026756\n",
       "2018M09  0.005811 -0.002952\n",
       "2018M10 -0.031848 -0.066646\n",
       "2018M11 -0.075821 -0.011556\n",
       "2018M12  0.006514 -0.058714\n",
       "\n",
       "[132 rows x 2 columns]"
      ]
     },
     "execution_count": 256,
     "metadata": {},
     "output_type": "execute_result"
    }
   ],
   "source": [
    "ndf8 = ndf[i2008:i2018]\n",
    "ndf8"
   ]
  },
  {
   "cell_type": "code",
   "execution_count": 257,
   "id": "93675aed-5ccf-4b53-8218-164ffaf8e5d6",
   "metadata": {},
   "outputs": [
    {
     "name": "stdout",
     "output_type": "stream",
     "text": [
      "0.1085922868924608\n",
      "0.4849266327940875\n",
      "-0.06430261784805752\n",
      "0.3319792555205258\n",
      "0.262128592547151\n"
     ]
    }
   ],
   "source": [
    "#a)\n",
    "cac_sum = sum(ndf8[\"CAC\"])\n",
    "cacsq_sum = sum(ndf8[\"CAC\"]**2)\n",
    "print(cac_sum)\n",
    "print(cacsq_sum)\n",
    "#b)\n",
    "eur_sum = sum(ndf8[\"EUR\"])\n",
    "eursq_sum = sum(ndf8[\"EUR\"]**2)\n",
    "print(eur_sum)\n",
    "print(eursq_sum)\n",
    "#c)\n",
    "eurXcac_sum = sum(ndf8[\"CAC\"]*ndf8[\"EUR\"])\n",
    "print(eurXcac_sum)"
   ]
  },
  {
   "cell_type": "markdown",
   "id": "b6d291f9-77d2-40ea-aa33-cfedf4027293",
   "metadata": {},
   "source": [
    "7. From the previous sums, compute the estimated parameters of a simple regression of the CAC40 on the EuroStoXX50, and the associated standard errors."
   ]
  },
  {
   "cell_type": "code",
   "execution_count": 258,
   "id": "baf2ce8b-d430-4771-b2b5-a8df6b14e9ae",
   "metadata": {},
   "outputs": [
    {
     "name": "stdout",
     "output_type": "stream",
     "text": [
      "Ybar = 0.0008226688400944005\n",
      "Xbar = -0.0004871410443034667 \n",
      "\n",
      "Beta1 hat : 0.7898271619203817\n",
      "Beta0 hat : 0.0012074260685715386 \n",
      "\n",
      "Mean of uhat = 0.0\n",
      "0.0021202994910408195 \n",
      "\n",
      "std(u) = 0.046223473334721925\n",
      "std(B1) = 0.08022830061563396\n",
      "std(B0) = 0.0040234267670966285\n"
     ]
    },
    {
     "name": "stderr",
     "output_type": "stream",
     "text": [
      "/var/folders/hp/sw6ymv615g37tbqbjqnw49qh0000gn/T/ipykernel_16805/3992447850.py:12: SettingWithCopyWarning: \n",
      "A value is trying to be set on a copy of a slice from a DataFrame.\n",
      "Try using .loc[row_indexer,col_indexer] = value instead\n",
      "\n",
      "See the caveats in the documentation: https://pandas.pydata.org/pandas-docs/stable/user_guide/indexing.html#returning-a-view-versus-a-copy\n",
      "  ndf8[\"PRED\"]= b0est+(b1est*ndf8[\"EUR\"])\n"
     ]
    }
   ],
   "source": [
    "T = len(ndf8)\n",
    "ybar=ndf8[\"CAC\"].mean()\n",
    "xbar=ndf8[\"EUR\"].mean()\n",
    "print('Ybar =', ybar)\n",
    "print(\"Xbar =\", xbar, \"\\n\")\n",
    "\n",
    "b1est = (eurXcac_sum - (T*ybar*xbar))/(eursq_sum-(T*(xbar**2)))\n",
    "print(\"Beta1 hat :\",b1est)\n",
    "b0est = ybar-(b1est*xbar)\n",
    "print(\"Beta0 hat :\",b0est, \"\\n\")\n",
    "\n",
    "ndf8[\"PRED\"]= b0est+(b1est*ndf8[\"EUR\"])\n",
    "u_bar = ybar - (b0est + b1est*xbar)\n",
    "print(\"Mean of uhat =\", u_bar)\n",
    "\n",
    "print((ndf8[\"CAC\"]-ndf8[\"PRED\"]).var(), \"\\n\")\n",
    "varu = (1/(T-2))*sum((ndf8[\"CAC\"]-ndf8[\"PRED\"])**2)\n",
    "print(\"std(u) =\", varu**0.5)\n",
    "\n",
    "varb1h = varu/(eursq_sum-(T*(xbar**2))) \n",
    "print(\"std(B1) =\", varb1h**0.5)\n",
    "\n",
    "varb0h = varu*((1/T)+(xbar**2/(eursq_sum-(T*(xbar**2)))))\n",
    "print(\"std(B0) =\", varb0h**0.5)"
   ]
  },
  {
   "cell_type": "markdown",
   "id": "99d29428-021e-4afc-af98-4ab21d08461d",
   "metadata": {},
   "source": [
    "8. With a Gretl command (or R), estimate the simple regression model and check the\n",
    "values computed in the previous question."
   ]
  },
  {
   "cell_type": "code",
   "execution_count": 267,
   "id": "de54caa1-b3a2-4e05-aec5-1db3e64df802",
   "metadata": {},
   "outputs": [
    {
     "data": {
      "text/html": [
       "<table class=\"simpletable\">\n",
       "<caption>OLS Regression Results</caption>\n",
       "<tr>\n",
       "  <th>Dep. Variable:</th>           <td>CAC</td>       <th>  R-squared:         </th> <td>   0.427</td>\n",
       "</tr>\n",
       "<tr>\n",
       "  <th>Model:</th>                   <td>OLS</td>       <th>  Adj. R-squared:    </th> <td>   0.423</td>\n",
       "</tr>\n",
       "<tr>\n",
       "  <th>Method:</th>             <td>Least Squares</td>  <th>  F-statistic:       </th> <td>   96.92</td>\n",
       "</tr>\n",
       "<tr>\n",
       "  <th>Date:</th>             <td>Mon, 27 Oct 2025</td> <th>  Prob (F-statistic):</th> <td>1.99e-17</td>\n",
       "</tr>\n",
       "<tr>\n",
       "  <th>Time:</th>                 <td>13:10:50</td>     <th>  Log-Likelihood:    </th> <td>  219.51</td>\n",
       "</tr>\n",
       "<tr>\n",
       "  <th>No. Observations:</th>      <td>   132</td>      <th>  AIC:               </th> <td>  -435.0</td>\n",
       "</tr>\n",
       "<tr>\n",
       "  <th>Df Residuals:</th>          <td>   130</td>      <th>  BIC:               </th> <td>  -429.3</td>\n",
       "</tr>\n",
       "<tr>\n",
       "  <th>Df Model:</th>              <td>     1</td>      <th>                     </th>     <td> </td>   \n",
       "</tr>\n",
       "<tr>\n",
       "  <th>Covariance Type:</th>      <td>nonrobust</td>    <th>                     </th>     <td> </td>   \n",
       "</tr>\n",
       "</table>\n",
       "<table class=\"simpletable\">\n",
       "<tr>\n",
       "    <td></td>       <th>coef</th>     <th>std err</th>      <th>t</th>      <th>P>|t|</th>  <th>[0.025</th>    <th>0.975]</th>  \n",
       "</tr>\n",
       "<tr>\n",
       "  <th>const</th> <td>    0.0012</td> <td>    0.004</td> <td>    0.300</td> <td> 0.765</td> <td>   -0.007</td> <td>    0.009</td>\n",
       "</tr>\n",
       "<tr>\n",
       "  <th>EUR</th>   <td>    0.7898</td> <td>    0.080</td> <td>    9.845</td> <td> 0.000</td> <td>    0.631</td> <td>    0.949</td>\n",
       "</tr>\n",
       "</table>\n",
       "<table class=\"simpletable\">\n",
       "<tr>\n",
       "  <th>Omnibus:</th>       <td> 4.134</td> <th>  Durbin-Watson:     </th> <td>   2.808</td>\n",
       "</tr>\n",
       "<tr>\n",
       "  <th>Prob(Omnibus):</th> <td> 0.127</td> <th>  Jarque-Bera (JB):  </th> <td>   5.053</td>\n",
       "</tr>\n",
       "<tr>\n",
       "  <th>Skew:</th>          <td> 0.086</td> <th>  Prob(JB):          </th> <td>  0.0800</td>\n",
       "</tr>\n",
       "<tr>\n",
       "  <th>Kurtosis:</th>      <td> 3.943</td> <th>  Cond. No.          </th> <td>    19.9</td>\n",
       "</tr>\n",
       "</table><br/><br/>Notes:<br/>[1] Standard Errors assume that the covariance matrix of the errors is correctly specified."
      ],
      "text/latex": [
       "\\begin{center}\n",
       "\\begin{tabular}{lclc}\n",
       "\\toprule\n",
       "\\textbf{Dep. Variable:}    &       CAC        & \\textbf{  R-squared:         } &     0.427   \\\\\n",
       "\\textbf{Model:}            &       OLS        & \\textbf{  Adj. R-squared:    } &     0.423   \\\\\n",
       "\\textbf{Method:}           &  Least Squares   & \\textbf{  F-statistic:       } &     96.92   \\\\\n",
       "\\textbf{Date:}             & Mon, 27 Oct 2025 & \\textbf{  Prob (F-statistic):} &  1.99e-17   \\\\\n",
       "\\textbf{Time:}             &     13:10:50     & \\textbf{  Log-Likelihood:    } &    219.51   \\\\\n",
       "\\textbf{No. Observations:} &         132      & \\textbf{  AIC:               } &    -435.0   \\\\\n",
       "\\textbf{Df Residuals:}     &         130      & \\textbf{  BIC:               } &    -429.3   \\\\\n",
       "\\textbf{Df Model:}         &           1      & \\textbf{                     } &             \\\\\n",
       "\\textbf{Covariance Type:}  &    nonrobust     & \\textbf{                     } &             \\\\\n",
       "\\bottomrule\n",
       "\\end{tabular}\n",
       "\\begin{tabular}{lcccccc}\n",
       "               & \\textbf{coef} & \\textbf{std err} & \\textbf{t} & \\textbf{P$> |$t$|$} & \\textbf{[0.025} & \\textbf{0.975]}  \\\\\n",
       "\\midrule\n",
       "\\textbf{const} &       0.0012  &        0.004     &     0.300  &         0.765        &       -0.007    &        0.009     \\\\\n",
       "\\textbf{EUR}   &       0.7898  &        0.080     &     9.845  &         0.000        &        0.631    &        0.949     \\\\\n",
       "\\bottomrule\n",
       "\\end{tabular}\n",
       "\\begin{tabular}{lclc}\n",
       "\\textbf{Omnibus:}       &  4.134 & \\textbf{  Durbin-Watson:     } &    2.808  \\\\\n",
       "\\textbf{Prob(Omnibus):} &  0.127 & \\textbf{  Jarque-Bera (JB):  } &    5.053  \\\\\n",
       "\\textbf{Skew:}          &  0.086 & \\textbf{  Prob(JB):          } &   0.0800  \\\\\n",
       "\\textbf{Kurtosis:}      &  3.943 & \\textbf{  Cond. No.          } &     19.9  \\\\\n",
       "\\bottomrule\n",
       "\\end{tabular}\n",
       "%\\caption{OLS Regression Results}\n",
       "\\end{center}\n",
       "\n",
       "Notes: \\newline\n",
       " [1] Standard Errors assume that the covariance matrix of the errors is correctly specified."
      ],
      "text/plain": [
       "<class 'statsmodels.iolib.summary.Summary'>\n",
       "\"\"\"\n",
       "                            OLS Regression Results                            \n",
       "==============================================================================\n",
       "Dep. Variable:                    CAC   R-squared:                       0.427\n",
       "Model:                            OLS   Adj. R-squared:                  0.423\n",
       "Method:                 Least Squares   F-statistic:                     96.92\n",
       "Date:                Mon, 27 Oct 2025   Prob (F-statistic):           1.99e-17\n",
       "Time:                        13:10:50   Log-Likelihood:                 219.51\n",
       "No. Observations:                 132   AIC:                            -435.0\n",
       "Df Residuals:                     130   BIC:                            -429.3\n",
       "Df Model:                           1                                         \n",
       "Covariance Type:            nonrobust                                         \n",
       "==============================================================================\n",
       "                 coef    std err          t      P>|t|      [0.025      0.975]\n",
       "------------------------------------------------------------------------------\n",
       "const          0.0012      0.004      0.300      0.765      -0.007       0.009\n",
       "EUR            0.7898      0.080      9.845      0.000       0.631       0.949\n",
       "==============================================================================\n",
       "Omnibus:                        4.134   Durbin-Watson:                   2.808\n",
       "Prob(Omnibus):                  0.127   Jarque-Bera (JB):                5.053\n",
       "Skew:                           0.086   Prob(JB):                       0.0800\n",
       "Kurtosis:                       3.943   Cond. No.                         19.9\n",
       "==============================================================================\n",
       "\n",
       "Notes:\n",
       "[1] Standard Errors assume that the covariance matrix of the errors is correctly specified.\n",
       "\"\"\""
      ]
     },
     "execution_count": 267,
     "metadata": {},
     "output_type": "execute_result"
    }
   ],
   "source": [
    "import statsmodels.api as sm\n",
    "\n",
    "y=ndf8[\"CAC\"]\n",
    "X=ndf8[\"EUR\"]\n",
    "ols = sm.OLS(y,sm.add_constant(X)).fit()\n",
    "ols.summary()"
   ]
  },
  {
   "cell_type": "code",
   "execution_count": 260,
   "id": "d7073fb5-4e11-4a5a-9250-2779360bfbab",
   "metadata": {},
   "outputs": [
    {
     "name": "stdout",
     "output_type": "stream",
     "text": [
      "Beta0hat = 0.0012074260685715327 \n",
      "Beta1hat = 0.7898271619203816\n",
      "Std(B0) = 0.004023426767096628 \n",
      "Std(B1) = 0.08022830061563396\n",
      "Std(u) = 0.046223473334721925\n"
     ]
    }
   ],
   "source": [
    "print(\"Beta0hat =\",ols.params.iloc[0], \"\\nBeta1hat =\", ols.params.iloc[1])\n",
    "print(\"Std(B0) =\",ols.bse.iloc[0], \"\\nStd(B1) =\", ols.bse.iloc[1])\n",
    "print(\"Std(u) =\", ols.mse_resid**0.5)"
   ]
  },
  {
   "cell_type": "markdown",
   "id": "19486845-0b8d-4838-a8bd-fb364a5a1c70",
   "metadata": {},
   "source": [
    "9. What are the assumptions that must be checked prior to interpreting the results?"
   ]
  },
  {
   "cell_type": "code",
   "execution_count": 261,
   "id": "2ba240d7-80b7-4684-8a41-aaced1d3300e",
   "metadata": {},
   "outputs": [
    {
     "name": "stdout",
     "output_type": "stream",
     "text": [
      "H1: Sum of the errors = 0\n",
      "H2: Homoskedasticity\n",
      "H3: Exogeneity of the explanatory variable\n",
      "H4: Non autocorrelation of the errors\n",
      "H5 (for statistical inference): Normality of the errors\n"
     ]
    }
   ],
   "source": [
    "print(\"H1: Sum of the errors = 0\\nH2: Homoskedasticity\")\n",
    "print(\"H3: Exogeneity of the explanatory variable\\nH4: Non autocorrelation of the errors\")\n",
    "print(\"H5 (for statistical inference): Normality of the errors\")"
   ]
  },
  {
   "cell_type": "markdown",
   "id": "47d06b03-f0b3-4a80-bc26-4e2a00e5a0cf",
   "metadata": {},
   "source": [
    "10. Supposing that the above assumptions hold, interpret the results. What will happen if they do not?"
   ]
  },
  {
   "cell_type": "code",
   "execution_count": 262,
   "id": "9db72562-33a8-4469-b7d0-0de8362a91fd",
   "metadata": {},
   "outputs": [
    {
     "name": "stdout",
     "output_type": "stream",
     "text": [
      "If they hold, it means that accoring to our sample estimations, if the\n",
      "Eurostoxx's return increases by 0.01, CAC40's one will increase by 0.007898.\n",
      "It would also mean that if Eurostoxx return is null, the one of CAC40 would be 0.12%.\n"
     ]
    }
   ],
   "source": [
    "import textwrap\n",
    "\n",
    "print(textwrap.fill(\"If they hold, it means that accoring to our sample estimations, if the Eurostoxx's return increases by 0.01, \"\n",
    "      \"CAC40's one will increase by 0.007898.\", width=80))\n",
    "print(\"It would also mean that if Eurostoxx return is null, the one of CAC40 would be 0.12%.\")\n"
   ]
  },
  {
   "cell_type": "markdown",
   "id": "fe90b286-1439-48c6-8321-f40fad0cae88",
   "metadata": {},
   "source": [
    "## EXERCISE 2: Statistical inference and prediction"
   ]
  },
  {
   "cell_type": "markdown",
   "id": "be6967ef-04a2-46ca-a725-7df210360f7b",
   "metadata": {},
   "source": [
    "1. Test the hypothesis that the coefficient associated with the constant is zero.\n",
    "\n",
    "(a) Compute the test statistics."
   ]
  },
  {
   "cell_type": "code",
   "execution_count": 263,
   "id": "66e3d659-9196-4bde-9f0c-4ac1a6cb1811",
   "metadata": {},
   "outputs": [
    {
     "name": "stdout",
     "output_type": "stream",
     "text": [
      "0.3000989302069071\n"
     ]
    }
   ],
   "source": [
    "#We use the estimated value and standard deviation of Beta0\n",
    "statb0=ols.params.iloc[0]/(ols.bse.iloc[0])\n",
    "print(statb0)"
   ]
  },
  {
   "cell_type": "markdown",
   "id": "93789ea0-f0e2-4eb4-905b-dd4d2015c619",
   "metadata": {},
   "source": [
    "(b) Using the pvalue command (look for the Gretl Help to get the caracteristics of\n",
    "such command), get the pvalue of the test and interpret the result. Can we use\n",
    "the fonction $pvalue instead ? Do it if the answer is yes and explain otherwise."
   ]
  },
  {
   "cell_type": "code",
   "execution_count": 284,
   "id": "dad7c971-99c2-4464-828a-23f51d877c29",
   "metadata": {},
   "outputs": [
    {
     "name": "stdout",
     "output_type": "stream",
     "text": [
      "0.7645810351672047\n"
     ]
    }
   ],
   "source": [
    "from scipy.stats import t\n",
    "\n",
    "dof=T-2\n",
    "pval0 = 2*(1-t.cdf(abs(statb0), dof)) #We multiply by 2 since it is a 2 sided test\n",
    "print(pval)"
   ]
  },
  {
   "cell_type": "markdown",
   "id": "488a6830-c8e8-4fc7-ae5d-d1de6d735e79",
   "metadata": {},
   "source": [
    "(c) Verify the results of the previous question in the simple regression table."
   ]
  },
  {
   "cell_type": "code",
   "execution_count": 285,
   "id": "85b7ae5a-1590-4d5a-afe7-ab804842c7c8",
   "metadata": {},
   "outputs": [
    {
     "name": "stdout",
     "output_type": "stream",
     "text": [
      "0.7645810351672048\n"
     ]
    }
   ],
   "source": [
    "print(ols.pvalues.iloc[0])"
   ]
  },
  {
   "cell_type": "markdown",
   "id": "c4745a0a-1466-4dcd-8e3b-a41ac1123930",
   "metadata": {},
   "source": [
    "2. Test the hypothesis that the coefficient associated with the Eurostoxx return is equal\n",
    "to one.\n",
    "\n",
    "(a) Compute the test statistics."
   ]
  },
  {
   "cell_type": "code",
   "execution_count": 286,
   "id": "53021cf8-a90a-4ff3-a171-d3f726ee49f2",
   "metadata": {},
   "outputs": [
    {
     "data": {
      "text/plain": [
       "np.float64(-2.6196845311050043)"
      ]
     },
     "execution_count": 286,
     "metadata": {},
     "output_type": "execute_result"
    }
   ],
   "source": [
    "statb1= (ols.params.iloc[1]-1)/ols.bse.iloc[1]\n",
    "statb1"
   ]
  },
  {
   "cell_type": "markdown",
   "id": "12bc9566-07a9-4b51-ace4-8b81ed570cb4",
   "metadata": {},
   "source": [
    "(b) Using the critical value finder of Gretl, calculate the p-value of this test and\n",
    "interpret."
   ]
  },
  {
   "cell_type": "code",
   "execution_count": 291,
   "id": "289b1e42-f64d-4474-84a4-8f5a9e37854f",
   "metadata": {},
   "outputs": [
    {
     "name": "stdout",
     "output_type": "stream",
     "text": [
      "The p-value of Beta1 significance test is 0.009848068140177135 ,therefore we reject the null hypothesis at 1% and conclude that Beta 1 is statistically different from 0\n"
     ]
    }
   ],
   "source": [
    "pval1 = 2 * (1-t.cdf(abs(statb1), dof))\n",
    "print(\"The p-value of Beta1 significance test is\", pval1,\n",
    "     \",therefore we reject the null hypothesis at 1% and conclude that Beta 1\",\n",
    "     \"is statistically different from 0\")"
   ]
  },
  {
   "cell_type": "markdown",
   "id": "706b6f1a-631d-4d4e-8257-5a0c6b712753",
   "metadata": {},
   "source": [
    "3. We want to construct a confidence interval around the estimated parameters.\n",
    "\n",
    "(a) Using the Gretl function critical(t,df,α/2) that gives the critical value for a\n",
    "Student t-distribution with df degres of freedom for a confidence level α, calculate\n",
    "a confidence interval around each estimated parameter."
   ]
  },
  {
   "cell_type": "code",
   "execution_count": 314,
   "id": "5e69deaf-1e33-43f6-9660-1c732729e98e",
   "metadata": {},
   "outputs": [
    {
     "name": "stdout",
     "output_type": "stream",
     "text": [
      "For a Student t law with 130 degrees of freedom, the critical value at a 1% threshold for a 2 sided test is 2.614177237556348\n"
     ]
    }
   ],
   "source": [
    "tcal=abs(t.ppf(0.005, dof))\n",
    "print(\"For a Student t law with\", dof, \n",
    "      \"degrees of freedom, the critical value at a 1% threshold for a 2 sided test is\",\n",
    "      tcal)"
   ]
  },
  {
   "cell_type": "markdown",
   "id": "10ab2fb7-9791-4953-910a-2467801d56b1",
   "metadata": {},
   "source": [
    "(b) Use the Gretl menu Tools to get critical values."
   ]
  },
  {
   "cell_type": "markdown",
   "id": "030f59f6-ce1a-4311-9059-7e713af8ee30",
   "metadata": {},
   "source": [
    "(c) Use the Gretl menu Analysis to construct a confidence interval around the estimated parameters."
   ]
  },
  {
   "cell_type": "code",
   "execution_count": 315,
   "id": "0129925a-c2cf-4145-9184-108b312ec7cf",
   "metadata": {},
   "outputs": [
    {
     "name": "stdout",
     "output_type": "stream",
     "text": [
      "The confidence interval at a 1% level of confidence of Beta0 is [ -0.0093 , 0.0117 ] and for Beta1 it's [ 0.5801 , 0.9996 ]\n"
     ]
    }
   ],
   "source": [
    "upper0 = ols.params.iloc[0]+(tcal*ols.bse.iloc[0])\n",
    "lower0 = ols.params.iloc[0]-(ols.bse.iloc[0]*tcal)\n",
    "upper1 = ols.params.iloc[1]+(tcal*ols.bse.iloc[1])\n",
    "lower1 = ols.params.iloc[1]-(tcal*ols.bse.iloc[1])\n",
    "\n",
    "print(\"The confidence interval at a 1% level of confidence of Beta0 is [\",\n",
    "     lower0.round(4), \",\", upper0.round(4), \"]\",\n",
    "      \"and for Beta1 it's [\", lower1.round(4), \",\", upper1.round(4), \"]\")"
   ]
  },
  {
   "cell_type": "markdown",
   "id": "af412490-7fbd-47fa-93e0-36a9577ed051",
   "metadata": {},
   "source": [
    "4. Create a scatterplot of the CAC40 predicted by the model and the observed one."
   ]
  },
  {
   "cell_type": "code",
   "execution_count": 328,
   "id": "508c5278-6c44-439a-b234-591954815cd0",
   "metadata": {},
   "outputs": [
    {
     "data": {
      "image/png": "[encoded data removed]",
      "text/plain": [
       "<Figure size 600x600 with 1 Axes>"
      ]
     },
     "metadata": {},
     "output_type": "display_data"
    }
   ],
   "source": [
    "plt.figure(figsize=(6,6))\n",
    "\n",
    "plt.scatter(ndf8[\"CAC\"], ols.fittedvalues)\n",
    "plt.title(\"CAC 40 Predicted vs Observed\")\n",
    "plt.ylabel(\"Predictions\")\n",
    "plt.xlabel(\"Observed\");"
   ]
  },
  {
   "cell_type": "code",
   "execution_count": 324,
   "id": "c743866a-ae90-45ad-ae9b-e9e11e1e73c6",
   "metadata": {},
   "outputs": [
    {
     "data": {
      "text/plain": [
       "DATE\n",
       "2008M01   -0.102237\n",
       "2008M02   -0.007117\n",
       "2008M03   -0.020422\n",
       "2008M04    0.045002\n",
       "2008M05   -0.002135\n",
       "             ...   \n",
       "2018M08   -0.019925\n",
       "2018M09   -0.001124\n",
       "2018M10   -0.051431\n",
       "2018M11   -0.007920\n",
       "2018M12   -0.045166\n",
       "Length: 132, dtype: float64"
      ]
     },
     "execution_count": 324,
     "metadata": {},
     "output_type": "execute_result"
    }
   ],
   "source": [
    "ols.predict(sm.add_constant(ndf8[\"EUR\"]))"
   ]
  },
  {
   "cell_type": "markdown",
   "id": "cfb5e940-e29c-4872-a106-04087955a3d0",
   "metadata": {},
   "source": [
    "5. Over the year 2019 (for which we have an observation), Use the Gretl menu Analysis\n",
    "to propose an analysis of the forecast of CAC40 return (in-sample prediction)."
   ]
  },
  {
   "cell_type": "code",
   "execution_count": 381,
   "id": "8fa5f251-9f3c-4b3e-ab12-07d7dc692f48",
   "metadata": {},
   "outputs": [
    {
     "data": {
      "text/html": [
       "<div>\n",
       "<style scoped>\n",
       "    .dataframe tbody tr th:only-of-type {\n",
       "        vertical-align: middle;\n",
       "    }\n",
       "\n",
       "    .dataframe tbody tr th {\n",
       "        vertical-align: top;\n",
       "    }\n",
       "\n",
       "    .dataframe thead th {\n",
       "        text-align: right;\n",
       "    }\n",
       "</style>\n",
       "<table border=\"1\" class=\"dataframe\">\n",
       "  <thead>\n",
       "    <tr style=\"text-align: right;\">\n",
       "      <th></th>\n",
       "      <th>CAC</th>\n",
       "      <th>EUR</th>\n",
       "    </tr>\n",
       "    <tr>\n",
       "      <th>DATE</th>\n",
       "      <th></th>\n",
       "      <th></th>\n",
       "    </tr>\n",
       "  </thead>\n",
       "  <tbody>\n",
       "    <tr>\n",
       "      <th>2019M01</th>\n",
       "      <td>0.039464</td>\n",
       "      <td>0.060976</td>\n",
       "    </tr>\n",
       "    <tr>\n",
       "      <th>2019M02</th>\n",
       "      <td>0.054333</td>\n",
       "      <td>0.040141</td>\n",
       "    </tr>\n",
       "    <tr>\n",
       "      <th>2019M03</th>\n",
       "      <td>0.045985</td>\n",
       "      <td>0.012220</td>\n",
       "    </tr>\n",
       "    <tr>\n",
       "      <th>2019M04</th>\n",
       "      <td>-0.009904</td>\n",
       "      <td>0.045294</td>\n",
       "    </tr>\n",
       "    <tr>\n",
       "      <th>2019M05</th>\n",
       "      <td>-0.006477</td>\n",
       "      <td>-0.066978</td>\n",
       "    </tr>\n",
       "    <tr>\n",
       "      <th>2019M06</th>\n",
       "      <td>0.038400</td>\n",
       "      <td>0.050158</td>\n",
       "    </tr>\n",
       "    <tr>\n",
       "      <th>2019M07</th>\n",
       "      <td>-0.036003</td>\n",
       "      <td>0.000293</td>\n",
       "    </tr>\n",
       "    <tr>\n",
       "      <th>2019M08</th>\n",
       "      <td>0.037304</td>\n",
       "      <td>-0.013460</td>\n",
       "    </tr>\n",
       "  </tbody>\n",
       "</table>\n",
       "</div>"
      ],
      "text/plain": [
       "              CAC       EUR\n",
       "DATE                       \n",
       "2019M01  0.039464  0.060976\n",
       "2019M02  0.054333  0.040141\n",
       "2019M03  0.045985  0.012220\n",
       "2019M04 -0.009904  0.045294\n",
       "2019M05 -0.006477 -0.066978\n",
       "2019M06  0.038400  0.050158\n",
       "2019M07 -0.036003  0.000293\n",
       "2019M08  0.037304 -0.013460"
      ]
     },
     "execution_count": 381,
     "metadata": {},
     "output_type": "execute_result"
    }
   ],
   "source": [
    "# Selecting a subset of our dataframe\n",
    "\n",
    "df8_19=ndf.loc[\"2008\":]\n",
    "df8_19[-8:]"
   ]
  },
  {
   "cell_type": "code",
   "execution_count": 390,
   "id": "f168e242-6651-4027-bab6-b2618939bf55",
   "metadata": {},
   "outputs": [
    {
     "data": {
      "text/plain": [
       "DATE\n",
       "2019M01    0.048821\n",
       "2019M02    0.032681\n",
       "2019M03    0.011051\n",
       "2019M04    0.036672\n",
       "2019M05   -0.050301\n",
       "2019M06    0.040441\n",
       "2019M07    0.001811\n",
       "2019M08   -0.008842\n",
       "dtype: float64"
      ]
     },
     "execution_count": 390,
     "metadata": {},
     "output_type": "execute_result"
    }
   ],
   "source": [
    "# Initialising and fitting our model to the data\n",
    "\n",
    "mdl19 = sm.OLS(df8_19[\"CAC\"], sm.add_constant(df8_19[\"EUR\"])).fit()\n",
    "mdl19.fittedvalues[-8:]"
   ]
  },
  {
   "cell_type": "code",
   "execution_count": 388,
   "id": "cf744559-8d5a-4c22-ba79-c12aae865738",
   "metadata": {},
   "outputs": [
    {
     "data": {
      "text/plain": [
       "DATE\n",
       "2019M01   -0.009358\n",
       "2019M02    0.021652\n",
       "2019M03    0.034934\n",
       "2019M04   -0.046576\n",
       "2019M05    0.043824\n",
       "2019M06   -0.002040\n",
       "2019M07   -0.037815\n",
       "2019M08    0.046146\n",
       "dtype: float64"
      ]
     },
     "execution_count": 388,
     "metadata": {},
     "output_type": "execute_result"
    }
   ],
   "source": [
    "residuals = mdl19.resid[-8:]\n",
    "residuals"
   ]
  },
  {
   "cell_type": "code",
   "execution_count": 405,
   "id": "35a27254-fd36-47a0-b62e-e5ee4fa9f034",
   "metadata": {},
   "outputs": [
    {
     "name": "stdout",
     "output_type": "stream",
     "text": [
      "The average error on the prediction of 2019 is of 0.006346\n"
     ]
    }
   ],
   "source": [
    "print(\"The average error on the in-sample prediction of 2019 is of\", \n",
    "      residuals.mean().round(6))"
   ]
  },
  {
   "cell_type": "markdown",
   "id": "e32bd3c0-df0e-40f5-8c19-acb95b14865f",
   "metadata": {},
   "source": [
    "### Bonus questions\n",
    "EX2.1 How would you do an out-of-sample prediction for 2019? What do we get?"
   ]
  },
  {
   "cell_type": "code",
   "execution_count": 408,
   "id": "1c014327-5d48-4beb-98cf-f99ae60bfb13",
   "metadata": {},
   "outputs": [
    {
     "data": {
      "text/plain": [
       "DATE\n",
       "2019M01   -0.009904\n",
       "2019M02    0.021421\n",
       "2019M03    0.035126\n",
       "2019M04   -0.046885\n",
       "2019M05    0.045216\n",
       "2019M06   -0.002423\n",
       "2019M07   -0.037442\n",
       "2019M08    0.046727\n",
       "dtype: float64"
      ]
     },
     "execution_count": 408,
     "metadata": {},
     "output_type": "execute_result"
    }
   ],
   "source": [
    "# The \"ols\" model is already on the out-of-sample data (without 2019)\n",
    "\n",
    "predictions = ols.predict(sm.add_constant(ndf[\"EUR\"].loc[\"2019\":]))\n",
    "residuals = ndf[\"CAC\"].loc[\"2019\":] - predictions\n",
    "residuals"
   ]
  },
  {
   "cell_type": "code",
   "execution_count": 410,
   "id": "d98d9425-00bb-488a-aa07-57654fda2213",
   "metadata": {},
   "outputs": [
    {
     "name": "stdout",
     "output_type": "stream",
     "text": [
      "The average error for the out-of-sample estimation of the CAC in 2019 is 0.006479\n"
     ]
    }
   ],
   "source": [
    "print(\"The average error for the out-of-sample estimation of the CAC in 2019 is\",\n",
    "     residuals.mean().round(6))"
   ]
  }
 ],
 "metadata": {
  "kernelspec": {
   "display_name": "Python 3 (ipykernel)",
   "language": "python",
   "name": "python3"
  },
  "language_info": {
   "codemirror_mode": {
    "name": "ipython",
    "version": 3
   },
   "file_extension": ".py",
   "mimetype": "text/x-python",
   "name": "python",
   "nbconvert_exporter": "python",
   "pygments_lexer": "ipython3",
   "version": "3.12.5"
  }
 },
 "nbformat": 4,
 "nbformat_minor": 5
}
